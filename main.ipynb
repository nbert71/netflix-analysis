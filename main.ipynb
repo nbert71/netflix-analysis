{
 "cells": [
  {
   "cell_type": "markdown",
   "metadata": {},
   "source": [
    "# Analyse des films et séries de Netflix"
   ]
  },
  {
   "cell_type": "markdown",
   "metadata": {},
   "source": [
    "## Import des données"
   ]
  },
  {
   "cell_type": "code",
   "execution_count": 41,
   "metadata": {},
   "outputs": [],
   "source": [
    "import pandas as pd\n",
    "import seaborn as sns\n",
    "import numpy as np\n",
    "\n",
    "# path to dataset\n",
    "NETFLIX_FILE = './netflix.csv'\n",
    "\n",
    "df = pd.read_csv(NETFLIX_FILE)"
   ]
  },
  {
   "cell_type": "code",
   "execution_count": 37,
   "metadata": {},
   "outputs": [
    {
     "data": {
      "text/plain": [
       "<bound method DataFrame.info of                                            Title  \\\n",
       "0                               Lets Fight Ghost   \n",
       "1                            HOW TO BUILD A GIRL   \n",
       "2                                     Centigrade   \n",
       "3                                          ANNE+   \n",
       "4                                          Moxie   \n",
       "...                                          ...   \n",
       "15475                     K-POP Extreme Survival   \n",
       "15476            DreamWorks Shreks Swamp Stories   \n",
       "15477  DreamWorks Happy Holidays from Madagascar   \n",
       "15478                DreamWorks Holiday Classics   \n",
       "15479   DreamWorks Kung Fu Panda Awesome Secrets   \n",
       "\n",
       "                                        Genre  \\\n",
       "0      Crime, Drama, Fantasy, Horror, Romance   \n",
       "1                                      Comedy   \n",
       "2                             Drama, Thriller   \n",
       "3                                       Drama   \n",
       "4                     Animation, Short, Drama   \n",
       "...                                       ...   \n",
       "15475                                     NaN   \n",
       "15476                                     NaN   \n",
       "15477               Animation, Comedy, Family   \n",
       "15478               Animation, Comedy, Family   \n",
       "15479       Animation, Action, Comedy, Family   \n",
       "\n",
       "                                                    Tags         Languages  \\\n",
       "0      Comedy Programmes,Romantic TV Comedies,Horror ...  Swedish, Spanish   \n",
       "1           Dramas,Comedies,Films Based on Books,British           English   \n",
       "2                                              Thrillers           English   \n",
       "3            TV Dramas,Romantic TV Dramas,Dutch TV Shows           Turkish   \n",
       "4      Social Issue Dramas,Teen Movies,Dramas,Comedie...           English   \n",
       "...                                                  ...               ...   \n",
       "15475  TV Dramas,TV Programmes,TV Comedies,Romantic T...               NaN   \n",
       "15476  Animal Tales,Family Comedies,Family Adventures...               NaN   \n",
       "15477  TV Comedies,Kids TV,Animal Tales,TV Cartoons,T...           English   \n",
       "15478  TV Comedies,Kids TV,TV Cartoons,TV Programmes,...           English   \n",
       "15479  TV Comedies,Kids TV,Animal Tales,TV Cartoons,T...           English   \n",
       "\n",
       "      Series or Movie  Hidden Gem Score  \\\n",
       "0              Series               4.3   \n",
       "1               Movie               7.0   \n",
       "2               Movie               6.4   \n",
       "3              Series               7.7   \n",
       "4               Movie               8.1   \n",
       "...               ...               ...   \n",
       "15475          Series               NaN   \n",
       "15476          Series               NaN   \n",
       "15477          Series               8.4   \n",
       "15478          Series               8.2   \n",
       "15479          Series               8.1   \n",
       "\n",
       "                                    Country Availability       Runtime  \\\n",
       "0                                               Thailand  < 30 minutes   \n",
       "1                                                 Canada      1-2 hour   \n",
       "2                                                 Canada      1-2 hour   \n",
       "3                                    Belgium,Netherlands  < 30 minutes   \n",
       "4      Lithuania,Poland,France,Iceland,Italy,Spain,Gr...      1-2 hour   \n",
       "...                                                  ...           ...   \n",
       "15475  South Korea,Argentina,United Kingdom,Australia...  < 30 minutes   \n",
       "15476  Russia,Hong Kong,Hungary,Australia,South Korea...  < 30 minutes   \n",
       "15477  Belgium,Switzerland,United States,Germany,Unit...  < 30 minutes   \n",
       "15478  Belgium,Switzerland,Germany,Argentina,United K...  < 30 minutes   \n",
       "15479  Belgium,Switzerland,Germany,United Kingdom,Fra...  < 30 minutes   \n",
       "\n",
       "              Director                      Writer  ... Netflix Release Date  \\\n",
       "0      Tomas Alfredson       John Ajvide Lindqvist  ...           2021-03-04   \n",
       "1        Coky Giedroyc               Caitlin Moran  ...           2021-03-04   \n",
       "2        Brendan Walsh  Brendan Walsh, Daley Nixon  ...           2021-03-04   \n",
       "3                  NaN                         NaN  ...           2021-03-04   \n",
       "4        Stephen Irwin                         NaN  ...           2021-03-04   \n",
       "...                ...                         ...  ...                  ...   \n",
       "15475              NaN                         NaN  ...           2015-04-14   \n",
       "15476              NaN                         NaN  ...           2015-04-14   \n",
       "15477              NaN                         NaN  ...           2015-04-14   \n",
       "15478              NaN                         NaN  ...           2015-04-14   \n",
       "15479              NaN                         NaN  ...           2015-04-14   \n",
       "\n",
       "                             Production House  \\\n",
       "0                   Canal+, Sandrew Metronome   \n",
       "1      Film 4, Monumental Pictures, Lionsgate   \n",
       "2                                         NaN   \n",
       "3                                         NaN   \n",
       "4                                         NaN   \n",
       "...                                       ...   \n",
       "15475                                     NaN   \n",
       "15476                                     NaN   \n",
       "15477                                     NaN   \n",
       "15478                                     Fox   \n",
       "15479                                     NaN   \n",
       "\n",
       "                                 Netflix Link  \\\n",
       "0      https://www.netflix.com/watch/81415947   \n",
       "1      https://www.netflix.com/watch/81041267   \n",
       "2      https://www.netflix.com/watch/81305978   \n",
       "3      https://www.netflix.com/watch/81336456   \n",
       "4      https://www.netflix.com/watch/81078393   \n",
       "...                                       ...   \n",
       "15475  https://www.netflix.com/watch/80031595   \n",
       "15476  https://www.netflix.com/watch/70242630   \n",
       "15477  https://www.netflix.com/watch/70259784   \n",
       "15478  https://www.netflix.com/watch/70221348   \n",
       "15479  https://www.netflix.com/watch/70241791   \n",
       "\n",
       "                                  IMDb Link  \\\n",
       "0      https://www.imdb.com/title/tt1139797   \n",
       "1      https://www.imdb.com/title/tt4193072   \n",
       "2      https://www.imdb.com/title/tt8945942   \n",
       "3      https://www.imdb.com/title/tt6132758   \n",
       "4      https://www.imdb.com/title/tt2023611   \n",
       "...                                     ...   \n",
       "15475                                   NaN   \n",
       "15476                                   NaN   \n",
       "15477                                   NaN   \n",
       "15478                                   NaN   \n",
       "15479                                   NaN   \n",
       "\n",
       "                                                 Summary  IMDb Votes  \\\n",
       "0      A med student with a supernatural gift tries t...    205926.0   \n",
       "1      When nerdy Johanna moves to London, things get...      2838.0   \n",
       "2      Trapped in a frozen car during a blizzard, a p...      1720.0   \n",
       "3      Upon moving into a new place, a 20-something r...      1147.0   \n",
       "4      Inspired by her moms rebellious past and a con...        63.0   \n",
       "...                                                  ...         ...   \n",
       "15475  Seung Yeon decides to chase her dream of becom...         NaN   \n",
       "15476  Shrek celebrates Halloween, Puss in Boots is c...         NaN   \n",
       "15477  Madagascar goes wild with holiday spirit in th...        71.0   \n",
       "15478  Join your DreamWorks friends for these four ho...        82.0   \n",
       "15479  In this pair of adventures, Po tells the story...        17.0   \n",
       "\n",
       "                                                   Image  \\\n",
       "0      https://occ-0-4708-64.1.nflxso.net/dnm/api/v6/...   \n",
       "1      https://occ-0-1081-999.1.nflxso.net/dnm/api/v6...   \n",
       "2      https://occ-0-1081-999.1.nflxso.net/dnm/api/v6...   \n",
       "3      https://occ-0-1489-1490.1.nflxso.net/dnm/api/v...   \n",
       "4      https://occ-0-4039-1500.1.nflxso.net/dnm/api/v...   \n",
       "...                                                  ...   \n",
       "15475  https://occ-0-2851-38.1.nflxso.net/dnm/api/v6/...   \n",
       "15476  https://occ-0-2851-38.1.nflxso.net/dnm/api/v6/...   \n",
       "15477  https://occ-0-2773-2774.1.nflxso.net/dnm/api/v...   \n",
       "15478  https://occ-0-2851-38.1.nflxso.net/dnm/api/v6/...   \n",
       "15479  https://occ-0-2851-38.1.nflxso.net/dnm/api/v6/...   \n",
       "\n",
       "                                                  Poster  \\\n",
       "0      https://m.media-amazon.com/images/M/MV5BOWM4NT...   \n",
       "1      https://m.media-amazon.com/images/M/MV5BZGUyN2...   \n",
       "2      https://m.media-amazon.com/images/M/MV5BODM2MD...   \n",
       "3      https://m.media-amazon.com/images/M/MV5BNWRkMz...   \n",
       "4      https://m.media-amazon.com/images/M/MV5BODYyNW...   \n",
       "...                                                  ...   \n",
       "15475                                                NaN   \n",
       "15476                                                NaN   \n",
       "15477                                                NaN   \n",
       "15478                                                NaN   \n",
       "15479                                                NaN   \n",
       "\n",
       "                                      TMDb Trailer Trailer Site  \n",
       "0                                              NaN          NaN  \n",
       "1      https://www.youtube.com/watch?v=eIbcxPy4okQ      YouTube  \n",
       "2      https://www.youtube.com/watch?v=0RvV7TNUlkQ      YouTube  \n",
       "3                                              NaN          NaN  \n",
       "4                                              NaN          NaN  \n",
       "...                                            ...          ...  \n",
       "15475                                          NaN          NaN  \n",
       "15476                                          NaN          NaN  \n",
       "15477                                          NaN          NaN  \n",
       "15478                                          NaN          NaN  \n",
       "15479                                          NaN          NaN  \n",
       "\n",
       "[15480 rows x 29 columns]>"
      ]
     },
     "execution_count": 37,
     "metadata": {},
     "output_type": "execute_result"
    }
   ],
   "source": [
    "df.info"
   ]
  },
  {
   "cell_type": "markdown",
   "metadata": {},
   "source": [
    "## Répartition Films/Séries"
   ]
  },
  {
   "cell_type": "code",
   "execution_count": 26,
   "metadata": {},
   "outputs": [
    {
     "data": {
      "image/png": "[encoded data removed]",
      "text/plain": [
       "<Figure size 500x500 with 1 Axes>"
      ]
     },
     "execution_count": 26,
     "metadata": {},
     "output_type": "execute_result"
    }
   ],
   "source": [
    "g = sns.catplot(data=df, kind=\"count\", x=\"Series or Movie\")\n",
    "g.fig"
   ]
  },
  {
   "cell_type": "markdown",
   "metadata": {},
   "source": [
    "## Sortie annuelles (sur Netflix)"
   ]
  },
  {
   "cell_type": "code",
   "execution_count": 27,
   "metadata": {},
   "outputs": [
    {
     "data": {
      "text/plain": [
       "0        2021-03\n",
       "1        2021-03\n",
       "2        2021-03\n",
       "3        2021-03\n",
       "4        2021-03\n",
       "          ...   \n",
       "15475    2015-04\n",
       "15476    2015-04\n",
       "15477    2015-04\n",
       "15478    2015-04\n",
       "15479    2015-04\n",
       "Name: Netflix Release Date, Length: 15480, dtype: object"
      ]
     },
     "execution_count": 27,
     "metadata": {},
     "output_type": "execute_result"
    }
   ],
   "source": [
    "ym = df[\"Netflix Release Date\"].copy()\n",
    "\n",
    "# slice pour garder année et mois\n",
    "for i in range(len(ym)):\n",
    "    ym[i] = ym[i][:-3]\n"
   ]
  },
  {
   "cell_type": "code",
   "execution_count": 42,
   "metadata": {},
   "outputs": [
    {
     "data": {
      "text/plain": [
       "15480"
      ]
     },
     "execution_count": 42,
     "metadata": {},
     "output_type": "execute_result"
    }
   ],
   "source": [
    "df_ym = pd.DataFrame({'Netflix Release Date': np.flip(ym.values)})\n",
    "len(df_ym)"
   ]
  },
  {
   "cell_type": "code",
   "execution_count": 46,
   "metadata": {},
   "outputs": [
    {
     "data": {
      "image/png": "[encoded data removed]",
      "text/plain": [
       "<Figure size 1500x500 with 1 Axes>"
      ]
     },
     "execution_count": 46,
     "metadata": {},
     "output_type": "execute_result"
    }
   ],
   "source": [
    "g = sns.catplot(data=df_ym, x=\"Netflix Release Date\", kind=\"count\", aspect=3)\n",
    "g.set_xticklabels()\n",
    "g.fig"
   ]
  },
  {
   "cell_type": "markdown",
   "metadata": {},
   "source": [
    "## Retard entre la sortie en cinéma et la sortie sur Netflix"
   ]
  },
  {
   "cell_type": "markdown",
   "metadata": {},
   "source": [
    "attention à filtrer"
   ]
  }
 ],
 "metadata": {
  "kernelspec": {
   "display_name": "Python 3.9.13 ('base')",
   "language": "python",
   "name": "python3"
  },
  "language_info": {
   "codemirror_mode": {
    "name": "ipython",
    "version": 3
   },
   "file_extension": ".py",
   "mimetype": "text/x-python",
   "name": "python",
   "nbconvert_exporter": "python",
   "pygments_lexer": "ipython3",
   "version": "3.9.13"
  },
  "orig_nbformat": 4,
  "vscode": {
   "interpreter": {
    "hash": "46c13097a1d558ee31ed4c376eb319f00bd049346b50d2e218f51d4f092e69d0"
   }
  }
 },
 "nbformat": 4,
 "nbformat_minor": 2
}
