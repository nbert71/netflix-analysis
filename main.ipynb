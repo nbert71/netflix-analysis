{
 "cells": [
  {
   "cell_type": "markdown",
   "metadata": {},
   "source": [
    "# Analyse des films et séries de Netflix"
   ]
  },
  {
   "cell_type": "markdown",
   "metadata": {},
   "source": [
    "## Import des données"
   ]
  },
  {
   "cell_type": "code",
   "execution_count": null,
   "metadata": {},
   "outputs": [],
   "source": [
    "import pandas as pd\n",
    "import seaborn as sns\n",
    "import numpy as np\n",
    "\n",
    "import sys\n",
    "np.set_printoptions(threshold=sys.maxsize)\n",
    "\n",
    "# path to dataset\n",
    "NETFLIX_FILE = './netflix.csv'\n",
    "\n",
    "df = pd.read_csv(NETFLIX_FILE)"
   ]
  },
  {
   "cell_type": "code",
   "execution_count": null,
   "metadata": {},
   "outputs": [],
   "source": [
    "df.head()"
   ]
  },
  {
   "cell_type": "markdown",
   "metadata": {},
   "source": [
    "## Répartition Films/Séries"
   ]
  },
  {
   "cell_type": "code",
   "execution_count": null,
   "metadata": {},
   "outputs": [],
   "source": [
    "g = sns.catplot(data=df, kind=\"count\", x=\"Series or Movie\")\n",
    "g.fig"
   ]
  },
  {
   "cell_type": "markdown",
   "metadata": {},
   "source": [
    "## Sortie annuelles (sur Netflix)"
   ]
  },
  {
   "cell_type": "code",
   "execution_count": null,
   "metadata": {},
   "outputs": [],
   "source": [
    "ym = df[\"Netflix Release Date\"].copy()\n",
    "\n",
    "# slice pour garder année et mois\n",
    "for i in range(len(ym)):\n",
    "    ym[i] = ym[i][:-6]\n"
   ]
  },
  {
   "cell_type": "code",
   "execution_count": null,
   "metadata": {},
   "outputs": [],
   "source": [
    "df_ym = pd.DataFrame({'Netflix Release Date': np.flip(ym.values)})\n",
    "len(df_ym)"
   ]
  },
  {
   "cell_type": "code",
   "execution_count": null,
   "metadata": {},
   "outputs": [],
   "source": [
    "g = sns.catplot(data=df_ym, x=\"Netflix Release Date\", kind=\"count\", aspect=3)\n",
    "g.set_xticklabels(rotation=90)\n",
    "g.fig"
   ]
  },
  {
   "cell_type": "markdown",
   "metadata": {},
   "source": [
    "## Retard entre la sortie en cinéma et la sortie sur Netflix"
   ]
  },
  {
   "cell_type": "markdown",
   "metadata": {},
   "source": [
    "attention à filtrer"
   ]
  },
  {
   "cell_type": "markdown",
   "metadata": {},
   "source": [
    "## Différentes notations suivants les organismes"
   ]
  },
  {
   "cell_type": "markdown",
   "metadata": {},
   "source": [
    "Afficher les différentes notation suivant les organismes et suivant les genres\n",
    "\n",
    "https://seaborn.pydata.org/examples/scatterplot_categorical.html"
   ]
  },
  {
   "cell_type": "markdown",
   "metadata": {},
   "source": [
    "### Diagramme en boite sur les différents organismes"
   ]
  },
  {
   "cell_type": "code",
   "execution_count": null,
   "metadata": {},
   "outputs": [],
   "source": [
    "# Supprimer les lignes qui ne possèdent pas de genre\n",
    "df_has_genre = df.dropna(subset=['Genre'])\n",
    "\n",
    "# Normalisation des scores de notations (0 à 10)\n",
    "# Hidden Gen Score OK\n",
    "# IMDb Score OK\n",
    "# Rotten Tomatoes 0 -- 100\n",
    "# Metacritics 0 -- 100\n",
    "\n",
    "df_has_genre['Rotten Tomatoes Score'] = df_has_genre['Rotten Tomatoes Score'].apply(lambda x : x/10)\n",
    "df_has_genre['Metacritic Score'] = df_has_genre['Metacritic Score'].apply(lambda x : x/10)\n",
    "\n"
   ]
  },
  {
   "cell_type": "code",
   "execution_count": null,
   "metadata": {},
   "outputs": [],
   "source": [
    "df_genre = df_has_genre['Genre'].str.split(', ')\n",
    "df_imdb = pd.DataFrame(data={\n",
    "  'Genre': df_genre,\n",
    "  'IMDb Score': df_has_genre['IMDb Score'],\n",
    "  'Netflix Release Date': df_has_genre['Netflix Release Date']\n",
    "})\n",
    "\n",
    "for i in range(len(df_imdb['Netflix Release Date'].values)):\n",
    "  df_imdb['Netflix Release Date'].values[i] = df_imdb['Netflix Release Date'].values[i][:-3]\n",
    "\n",
    "df_imdb_ex = df_imdb.explode('Genre')\n",
    "\n",
    "\n",
    "\n"
   ]
  },
  {
   "cell_type": "code",
   "execution_count": null,
   "metadata": {},
   "outputs": [],
   "source": [
    "g = sns.boxplot(data=df_imdb_ex, x='Genre', y='IMDb Score')\n",
    "g.set_xticklabels(g.get_xticklabels(), rotation=90)\n",
    "g.figure"
   ]
  },
  {
   "cell_type": "markdown",
   "metadata": {},
   "source": [
    "#### Rotten Tomatoes"
   ]
  },
  {
   "cell_type": "code",
   "execution_count": null,
   "metadata": {},
   "outputs": [],
   "source": [
    "df_genre = df_has_genre['Genre'].str.split(', ')\n",
    "df_rotten = pd.DataFrame(data={\n",
    "  'Genre': df_genre,\n",
    "  'Rotten Tomatoes Score': df_has_genre['Rotten Tomatoes Score']\n",
    "})\n",
    "df_rotten_ex = df_rotten.explode('Genre')\n",
    "df_rotten_ex"
   ]
  },
  {
   "cell_type": "code",
   "execution_count": null,
   "metadata": {},
   "outputs": [],
   "source": [
    "g = sns.boxplot(data=df_rotten_ex, x='Genre', y='Rotten Tomatoes Score')\n",
    "g.set_xticklabels(g.get_xticklabels(), rotation=90)\n",
    "g.figure"
   ]
  },
  {
   "cell_type": "markdown",
   "metadata": {},
   "source": [
    "#### Metacritics Score"
   ]
  },
  {
   "cell_type": "code",
   "execution_count": null,
   "metadata": {},
   "outputs": [],
   "source": [
    "df_genre = df_has_genre['Genre'].str.split(', ')\n",
    "df_meta = pd.DataFrame(data={\n",
    "  'Genre': df_genre,\n",
    "  'Metacritic Score': df_has_genre['Metacritic Score']\n",
    "})\n",
    "df_meta_ex = df_meta.explode('Genre')\n",
    "df_meta_ex"
   ]
  },
  {
   "cell_type": "code",
   "execution_count": null,
   "metadata": {},
   "outputs": [],
   "source": [
    "g = sns.boxplot(data=df_meta_ex, x='Genre', y='Metacritic Score')\n",
    "g.set_xticklabels(g.get_xticklabels(), rotation=90)\n",
    "g.figure"
   ]
  },
  {
   "cell_type": "markdown",
   "metadata": {},
   "source": [
    "### Heatmap avec les genres, les années-mois de sorties et en couleur le score"
   ]
  },
  {
   "cell_type": "code",
   "execution_count": null,
   "metadata": {},
   "outputs": [],
   "source": [
    "\n",
    "\n",
    "data = df_imdb_ex.pivot_table(index=\"Genre\", columns=\"Netflix Release Date\", values=\"IMDb Score\")\n",
    "sns.heatmap(data,yticklabels=True)\n"
   ]
  },
  {
   "cell_type": "code",
   "execution_count": null,
   "metadata": {},
   "outputs": [],
   "source": [
    "data"
   ]
  },
  {
   "cell_type": "markdown",
   "metadata": {},
   "source": [
    "### Corrélation entre les genres"
   ]
  },
  {
   "cell_type": "code",
   "execution_count": null,
   "metadata": {},
   "outputs": [],
   "source": [
    "film_list = df_has_genre['Genre'].values\n",
    "\n",
    "# mise en forme arr(arr)\n",
    "for i in range(len(film_list)):\n",
    "  film_list[i]=film_list[i].split(', ')\n"
   ]
  },
  {
   "cell_type": "code",
   "execution_count": null,
   "metadata": {},
   "outputs": [],
   "source": [
    "film_list"
   ]
  },
  {
   "cell_type": "code",
   "execution_count": null,
   "metadata": {},
   "outputs": [],
   "source": [
    "genres_list = set(df_imdb_ex['Genre'].values)\n",
    "genres_list"
   ]
  },
  {
   "cell_type": "code",
   "execution_count": null,
   "metadata": {},
   "outputs": [],
   "source": [
    "# algorithme pour compter les occurrences ou un genre apparait avec un autre\n",
    "\n",
    "# {\n",
    "#   'drama':{\n",
    "#     'comedy': 2,\n",
    "#     'romance': 4\n",
    "#   },\n",
    "#   'comedy': {\n",
    "#     'drama': 9,\n",
    "#     'romance': 3\n",
    "#   }\n",
    "# }\n",
    "\n",
    "# initialisation du dictionnaire de corrélation\n",
    "corr = { g : 0 for g in genres_list }\n",
    "genres_corr = {g : corr for g in genres_list}\n",
    "\n",
    "\n",
    "\n"
   ]
  },
  {
   "cell_type": "code",
   "execution_count": null,
   "metadata": {},
   "outputs": [],
   "source": [
    "# comptage\n",
    "for g in genres_list:\n",
    "  for f in film_list:\n",
    "    print(g, f, g in f)\n",
    "    if g in f:\n",
    "      print(\"boucle ok\")\n",
    "      for t in f:\n",
    "        genres_corr[g][t] += 1\n",
    "        print(genres_corr[g])"
   ]
  },
  {
   "cell_type": "code",
   "execution_count": null,
   "metadata": {},
   "outputs": [],
   "source": [
    "genres_corr"
   ]
  },
  {
   "cell_type": "code",
   "execution_count": null,
   "metadata": {},
   "outputs": [],
   "source": [
    "# test\n",
    "s = 0\n",
    "for f in film_list:\n",
    "  if 'Sci-Fi' in f:\n",
    "    s += 1\n",
    "print(s)"
   ]
  }
 ],
 "metadata": {
  "kernelspec": {
   "display_name": "Python 3.10.6 64-bit",
   "language": "python",
   "name": "python3"
  },
  "language_info": {
   "codemirror_mode": {
    "name": "ipython",
    "version": 3
   },
   "file_extension": ".py",
   "mimetype": "text/x-python",
   "name": "python",
   "nbconvert_exporter": "python",
   "pygments_lexer": "ipython3",
   "version": "3.10.6"
  },
  "orig_nbformat": 4,
  "vscode": {
   "interpreter": {
    "hash": "31f2aee4e71d21fbe5cf8b01ff0e069b9275f58929596ceb00d14d90e3e16cd6"
   }
  }
 },
 "nbformat": 4,
 "nbformat_minor": 2
}
